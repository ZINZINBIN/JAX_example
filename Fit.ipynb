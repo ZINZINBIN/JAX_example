{
  "nbformat": 4,
  "nbformat_minor": 0,
  "metadata": {
    "colab": {
      "provenance": []
    },
    "kernelspec": {
      "name": "python3",
      "display_name": "Python 3"
    },
    "language_info": {
      "name": "python"
    }
  },
  "cells": [
    {
      "cell_type": "markdown",
      "source": [
        "Task 3: Let's implement a fit that finds the true values of $a$ and $b$ for the following function."
      ],
      "metadata": {
        "id": "peE8-mpIuMQp"
      }
    },
    {
      "cell_type": "code",
      "source": [
        "import jax\n",
        "import jax.numpy as jnp\n",
        "import matplotlib.pyplot as plt\n",
        "\n",
        "\n",
        "rng = jax.random.key(42)\n",
        "\n",
        "true_a, true_b = 0.2, 1.1\n",
        "\n",
        "# function that we want to fit\n",
        "@jax.jit\n",
        "def function(x, a, b):\n",
        "  return b*x**2 - 4*a*x - b\n",
        "\n",
        "# generate true data with some noise\n",
        "def generate_data(rng):\n",
        "  x_key, noise_key = jax.random.split(rng)\n",
        "\n",
        "  xs = jax.random.uniform(x_key, (128, 1), minval=-3, maxval=3)\n",
        "  noise = jax.random.normal(noise_key, (128, 1)) * 0.15\n",
        "\n",
        "  ys = function(x=xs + noise, a=true_a, b=true_b)\n",
        "  return xs, ys\n",
        "\n",
        "\n",
        "# plot data\n",
        "xs, ys = generate_data(rng=rng)\n",
        "plt.scatter(xs, ys)"
      ],
      "metadata": {
        "colab": {
          "base_uri": "https://localhost:8080/",
          "height": 448
        },
        "id": "j4QbXie_t7St",
        "outputId": "955d5257-a45b-48fa-bc84-3871d5b3df66"
      },
      "execution_count": 2,
      "outputs": [
        {
          "output_type": "execute_result",
          "data": {
            "text/plain": [
              "<matplotlib.collections.PathCollection at 0x7e31d19b9650>"
            ]
          },
          "metadata": {},
          "execution_count": 2
        },
        {
          "output_type": "display_data",
          "data": {
            "text/plain": [
              "<Figure size 640x480 with 1 Axes>"
            ],
            "image/png": "[encoded data removed]"
          },
          "metadata": {}
        }
      ]
    },
    {
      "cell_type": "code",
      "source": [
        "# Solution\n",
        "init_a = 1.0\n",
        "init_b = 1.0\n",
        "lr = 1e-3\n",
        "\n",
        "@jax.jit\n",
        "def function(x, a, b):\n",
        "  return b*x**2 - 4*a*x - b\n",
        "\n",
        "def loss(a,b,x,y):\n",
        "    return jnp.mean((y - function(x,a,b))**2)\n",
        "\n",
        "def update(a,b):\n",
        "    grads = jax.grad(loss, argnums = (0,1))(a,b,xs,ys)\n",
        "    return grads\n",
        "\n",
        "a = init_a\n",
        "b = init_b\n",
        "\n",
        "for i in range(1000):\n",
        "    grads = update(a,b)\n",
        "    a -= grads[0] * lr\n",
        "    b -= grads[1] * lr\n",
        "\n",
        "print(\"a:{}, b:{}\".format(a,b))"
      ],
      "metadata": {
        "id": "FZbUdjk5tmrb",
        "colab": {
          "base_uri": "https://localhost:8080/"
        },
        "outputId": "c181b1a7-84f1-449f-d522-7eaaa684a652"
      },
      "execution_count": 12,
      "outputs": [
        {
          "output_type": "stream",
          "name": "stdout",
          "text": [
            "a:0.19006887078285217, b:1.0833139419555664\n"
          ]
        }
      ]
    },
    {
      "cell_type": "markdown",
      "source": [
        "**Bonus task:** train a neural network that learn the underlying function of this dataset."
      ],
      "metadata": {
        "id": "t4tcl2tlxt34"
      }
    },
    {
      "cell_type": "code",
      "source": [
        "# Solution\n"
      ],
      "metadata": {
        "id": "b-v-lKJvx1br"
      },
      "execution_count": null,
      "outputs": []
    }
  ]
}