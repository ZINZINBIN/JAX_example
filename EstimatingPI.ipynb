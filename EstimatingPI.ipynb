{
  "nbformat": 4,
  "nbformat_minor": 0,
  "metadata": {
    "colab": {
      "provenance": [],
      "include_colab_link": true
    },
    "kernelspec": {
      "name": "python3",
      "display_name": "Python 3"
    },
    "language_info": {
      "name": "python"
    }
  },
  "cells": [
    {
      "cell_type": "markdown",
      "metadata": {
        "id": "view-in-github",
        "colab_type": "text"
      },
      "source": [
        "<a href=\"https://colab.research.google.com/github/ZINZINBIN/JAX_example/blob/main/EstimatingPI.ipynb\" target=\"_parent\"><img src=\"https://colab.research.google.com/assets/colab-badge.svg\" alt=\"Open In Colab\"/></a>"
      ]
    },
    {
      "cell_type": "markdown",
      "source": [
        "Task 1: Estimating $\\pi$\n",
        "\n"
      ],
      "metadata": {
        "id": "djTp42Ql9X6I"
      }
    },
    {
      "cell_type": "code",
      "source": [
        "# Estimating PI\n",
        "from random import random\n",
        "\n",
        "import jax\n",
        "import jax.numpy as jnp\n",
        "\n",
        "def pi_python():\n",
        "  npoints = 100_000\n",
        "  xy = [(random(), random()) for _ in range(npoints)]\n",
        "\n",
        "  inside = 0\n",
        "  for x, y in xy:\n",
        "    if x**2 + y**2 < 1: # jax doesn't cover this logic condition normally (vectorizaiton needed)\n",
        "      inside += 1.0\n",
        "\n",
        "  return inside * 4.0 / npoints\n",
        "\n",
        "\n",
        "print(f\"pi ~= {pi_python()}\")\n",
        "\n",
        "print(\"\\nPure Python:\")\n",
        "%timeit -n 10 pi_python()"
      ],
      "metadata": {
        "colab": {
          "base_uri": "https://localhost:8080/"
        },
        "id": "TdT9EiCDnfoR",
        "outputId": "e689fdf2-2251-49f8-aee7-6e16a394ef2b"
      },
      "execution_count": 1,
      "outputs": [
        {
          "output_type": "stream",
          "name": "stdout",
          "text": [
            "pi ~= 3.15408\n",
            "\n",
            "Pure Python:\n",
            "59.8 ms ± 6.74 ms per loop (mean ± std. dev. of 7 runs, 10 loops each)\n"
          ]
        }
      ]
    },
    {
      "cell_type": "code",
      "source": [
        "# Solution\n",
        "import jax\n",
        "import jax.numpy as jnp\n",
        "from typing import List, Tuple\n",
        "\n",
        "def compute_inside(xy:List[Tuple]):\n",
        "    dist_l2 = jnp.sum(jnp.array(xy) ** 2, axis = 1)\n",
        "    inside = jnp.sum(dist_l2 < 1)\n",
        "    return inside\n",
        "\n",
        "def pi_python_jit():\n",
        "    rng = jax.random.key(42)\n",
        "    npoints = 100_000\n",
        "    xy = jax.random.uniform(rng, shape = (2,npoints)) # random should be also replaced!\n",
        "\n",
        "    # my method\n",
        "    # inside = compute_inside(xy)\n",
        "\n",
        "    # solution\n",
        "    inside = jnp.sum((xy[0,...] ** 2 + xy[1,...] ** 2) < 1)\n",
        "\n",
        "    return inside * 4.0 / npoints\n",
        "\n",
        "print(f\"pi ~= {pi_python_jit()}\")\n",
        "\n",
        "print(\"\\nPython with JIT (with compile-time):\")\n",
        "%timeit -n 1 pi_python_jit().block_until_ready()\n",
        "\n",
        "print(\"\\nPython with JIT (without compile-time):\")\n",
        "%timeit -n 10 pi_python_jit().block_until_ready()"
      ],
      "metadata": {
        "id": "VC93g0UjFA4g",
        "colab": {
          "base_uri": "https://localhost:8080/"
        },
        "outputId": "836671e2-2030-44c2-b936-69c786637d88"
      },
      "execution_count": 20,
      "outputs": [
        {
          "output_type": "stream",
          "name": "stdout",
          "text": [
            "pi ~= 3.142359972000122\n",
            "\n",
            "Python with JIT (with compile-time):\n",
            "3.41 ms ± 179 µs per loop (mean ± std. dev. of 7 runs, 1 loop each)\n",
            "\n",
            "Python with JIT (without compile-time):\n",
            "3.41 ms ± 166 µs per loop (mean ± std. dev. of 7 runs, 10 loops each)\n"
          ]
        }
      ]
    }
  ]
}